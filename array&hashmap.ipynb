{
 "cells": [
  {
   "attachments": {},
   "cell_type": "markdown",
   "id": "49fac784",
   "metadata": {},
   "source": [
    "# Containing Duplicate Number\n",
    "\n",
    "##### Given an integer array nums, return true if any value appears at least twice in the array, and return false if every element is distinct."
   ]
  },
  {
   "cell_type": "code",
   "execution_count": null,
   "id": "fb7cdc2c",
   "metadata": {},
   "outputs": [],
   "source": [
    "def containsDuplicateNumber(nums:list) -> bool:\n",
    "    hashset = set()\n",
    "\n",
    "    for i in nums:\n",
    "        if i in hashset:\n",
    "            return True\n",
    "        \n",
    "        hashset.add(i)\n",
    "    \n",
    "    return False"
   ]
  },
  {
   "attachments": {},
   "cell_type": "markdown",
   "id": "676d8e9f",
   "metadata": {},
   "source": [
    "#  Valid Anagram\n",
    "\n",
    "#### Given two strings s and t, return true if t is an anagram of s, and false otherwise.\n",
    "\n",
    "##### An Anagram is a word or phrase formed by rearranging the letters of a different word or phrase, typically using all the original letters exactly once."
   ]
  },
  {
   "cell_type": "code",
   "execution_count": null,
   "id": "62151343",
   "metadata": {},
   "outputs": [],
   "source": [
    "def validAnagram(source:list,target:list) -> bool:\n",
    "    if len(source) != len(target):\n",
    "        return False\n",
    "\n",
    "    hashmapS,hashmapT = {},{}\n",
    "\n",
    "    for i in range(len(source)):\n",
    "        hashmapS[source[i]] = 1 + hashmapS.get(source[i],0)\n",
    "        hashmapT[target[i]] = 1 + hashmapT.get(target[i],0)\n",
    "\n",
    "    return hashmapS == hashmapT"
   ]
  },
  {
   "attachments": {},
   "cell_type": "markdown",
   "id": "2799c407",
   "metadata": {},
   "source": [
    "#  Two Sum\n",
    "\n",
    "#### Given an array of integers nums and an integer target, return indices of the two numbers such that they add up to target.\n",
    "\n",
    "#### You may assume that each input would have exactly one solution, and you may not use the same element twice.\n",
    "\n",
    "#### You can return the answer in any order.\n",
    "\n"
   ]
  },
  {
   "cell_type": "code",
   "execution_count": null,
   "id": "1377abd1",
   "metadata": {},
   "outputs": [],
   "source": [
    "def twoSum(nums:list,target:int) -> list[int]:\n",
    "    hashmap = {}\n",
    "\n",
    "    for i,item in enumerate(nums):\n",
    "        diff = target - item\n",
    "\n",
    "        if diff in hashmap:\n",
    "            return [hashmap[diff],i]\n",
    "        \n",
    "        hashmap[item] = i\n",
    "        \n",
    "    return []"
   ]
  },
  {
   "attachments": {},
   "cell_type": "markdown",
   "id": "0d413a13",
   "metadata": {},
   "source": [
    "# Group Anagrams\n",
    "\n",
    "#### Given an array of strings strs, group the anagrams together. You can return the answer in any order.\n",
    "\n",
    "#### An Anagram is a word or phrase formed by rearranging the letters of a different word or phrase, typically using all the original letters exactly once."
   ]
  },
  {
   "cell_type": "code",
   "execution_count": null,
   "id": "f8a28bc9",
   "metadata": {},
   "outputs": [],
   "source": [
    "def groupsAnagrams(strs:list[str]) -> list[list[str]]:\n",
    "    hashmap = defaultdict(list)\n",
    "\n",
    "    for item in strs:\n",
    "        count = [0] * 26\n",
    "\n",
    "        for chrs in item:\n",
    "            count[ord(chrs) - ord('a')] += 1\n",
    "        \n",
    "        hashmap[tuple(count)].append(item)\n",
    "\n",
    "    return hashmap.values()"
   ]
  },
  {
   "attachments": {},
   "cell_type": "markdown",
   "id": "ba1c5976",
   "metadata": {},
   "source": [
    "# Top K Frequent Elements\n",
    "\n",
    "#### Given an integer array nums and an integer k, return the k most frequent elements. You may return the answer in any order.\n",
    "\n"
   ]
  },
  {
   "cell_type": "code",
   "execution_count": null,
   "id": "0e208010",
   "metadata": {},
   "outputs": [],
   "source": [
    "def topKFrequent(nums:list[int],k:int) -> list[int]:\n",
    "    hashmap = {}\n",
    "    process = [[] for i in range(len(nums) + 1)]\n",
    "\n",
    "    for i in nums:\n",
    "        hashmap[i] = 1 + hashmap.get(i,0)\n",
    "    \n",
    "    for value,count in hashmap.items():\n",
    "        process[count].append(value)\n",
    "    \n",
    "    final = []\n",
    "\n",
    "    for i in range(len(process) - 1,0,-1):\n",
    "        for value in process[i]:\n",
    "            final.append(value)\n",
    "            if len(final) == k:\n",
    "                return final\n",
    "        \n",
    "    return final"
   ]
  },
  {
   "attachments": {},
   "cell_type": "markdown",
   "id": "208d8ace",
   "metadata": {},
   "source": [
    "# Product of Array Except Self\n",
    "\n",
    "#### Given an integer array nums, return an array answer such that answer[i] is equal to the product of all the elements of nums except nums[i].\n",
    "\n",
    "#### The product of any prefix or suffix of nums is guaranteed to fit in a 32-bit integer.\n",
    "\n",
    "#### You must write an algorithm that runs in O(n) time and without using the division operation.\n",
    "\n"
   ]
  },
  {
   "cell_type": "code",
   "execution_count": null,
   "id": "ab5e73ad",
   "metadata": {},
   "outputs": [],
   "source": [
    "def productExceptSelf(nums: list[int]) -> list[int]:\n",
    "    result = [1] * len(nums)\n",
    "\n",
    "    prefix = 1\n",
    "\n",
    "    for i in range(len(nums)):\n",
    "        result[i] = prefix\n",
    "        prefix *= nums[i]\n",
    "    \n",
    "    postfix = 1\n",
    "\n",
    "    for i in range(len(nums)):\n",
    "        result[len(result) - 1 - i] *= postfix\n",
    "        postfix *= nums[len(result) - 1 - i ]\n",
    "\n",
    "    return result"
   ]
  },
  {
   "attachments": {},
   "cell_type": "markdown",
   "id": "73dedd4e",
   "metadata": {},
   "source": [
    "# Valid Sudoku\n",
    "\n",
    "#### Determine if a 9 x 9 Sudoku board is valid. Only the filled cells need to be validated according to the following rules:\n",
    "\n",
    "#### Each row must contain the digits 1-9 without repetition.\n",
    "\n",
    "#### Each column must contain the digits 1-9 without repetition.\n",
    "\n",
    "#### Each of the nine 3 x 3 sub-boxes of the grid must contain the digits 1-9 without repetition.\n"
   ]
  },
  {
   "cell_type": "code",
   "execution_count": null,
   "id": "683674ee",
   "metadata": {},
   "outputs": [],
   "source": [
    "def isValidSudoku(board: list[list[str]]) -> bool:\n",
    "    cols = defaultdict(set)\n",
    "    rows = defaultdict(set)\n",
    "    square = defaultdict(set)\n",
    "\n",
    "    for row in range(9):\n",
    "        for col in range(9):\n",
    "\n",
    "            if board[row][col] == '.':\n",
    "                continue\n",
    "            \n",
    "            if (\n",
    "                board[row][col] in rows[row] or\n",
    "                board[row][col] in cols[col] or\n",
    "                board[row][col] in square[(row // 3, col // 3)]\n",
    "            ) :\n",
    "                return False\n",
    "\n",
    "            rows[row].add(board[row][col])\n",
    "            cols[col].add(board[row][col])\n",
    "            square[(row // 3, col // 3)].add(board[row][col])\n",
    "\n",
    "    return True"
   ]
  },
  {
   "attachments": {},
   "cell_type": "markdown",
   "id": "63575a2b",
   "metadata": {},
   "source": [
    "#  Longest Consecutive Sequence\n",
    "\n",
    "#### Given an unsorted array of integers nums, return the length of the longest consecutive elements sequence.\n",
    "\n",
    "#### You must write an algorithm that runs in O(n) time."
   ]
  },
  {
   "cell_type": "code",
   "execution_count": null,
   "id": "0fb6be2f",
   "metadata": {},
   "outputs": [],
   "source": [
    "def longestConsecutive(nums: list[int]) -> int:\n",
    "        hashset = set(nums)\n",
    "        longest = 0\n",
    "\n",
    "        for i in nums:\n",
    "\n",
    "            if (i - 1) not in hashset:\n",
    "                length = 0\n",
    "\n",
    "                while i + length in hashset:\n",
    "                    length += 1\n",
    "                \n",
    "                longest = max(longest,length)\n",
    "        \n",
    "        return longest"
   ]
  }
 ],
 "metadata": {
  "kernelspec": {
   "display_name": "Python 3",
   "language": "python",
   "name": "python3"
  },
  "language_info": {
   "codemirror_mode": {
    "name": "ipython",
    "version": 3
   },
   "file_extension": ".py",
   "mimetype": "text/x-python",
   "name": "python",
   "nbconvert_exporter": "python",
   "pygments_lexer": "ipython3",
   "version": "3.10.10 (main, Mar  5 2023, 22:26:53) [GCC 12.2.1 20230201]"
  },
  "vscode": {
   "interpreter": {
    "hash": "767d51c1340bd893661ea55ea3124f6de3c7a262a8b4abca0554b478b1e2ff90"
   }
  }
 },
 "nbformat": 4,
 "nbformat_minor": 5
}
