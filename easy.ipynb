{
 "cells": [
  {
   "attachments": {},
   "cell_type": "markdown",
   "metadata": {},
   "source": [
    "# Replace Elements with Greatest Element on Right Side"
   ]
  },
  {
   "cell_type": "code",
   "execution_count": null,
   "metadata": {},
   "outputs": [],
   "source": [
    "class Solution:\n",
    "    def replaceElements(self, arr: List[int]) -> List[int]:\n",
    "        curr = -1\n",
    "\n",
    "        for x in range(len(arr) - 1,-1,-1):\n",
    "            max_curr = max(curr,arr[x])\n",
    "            arr[x] = curr\n",
    "            curr = max_curr\n",
    "            \n",
    "        return arr"
   ]
  },
  {
   "attachments": {},
   "cell_type": "markdown",
   "metadata": {},
   "source": [
    "# Contains Duplicate"
   ]
  },
  {
   "cell_type": "code",
   "execution_count": null,
   "metadata": {},
   "outputs": [],
   "source": [
    "class Solution:\n",
    "    def containsDuplicate(self, nums: List[int]) -> bool:\n",
    "        temp = sorted(nums)\n",
    "        for i in range(0,len(temp) - 1):\n",
    "            if temp[i] == temp[i+1]:\n",
    "                return True\n",
    "        \n",
    "        return False"
   ]
  },
  {
   "attachments": {},
   "cell_type": "markdown",
   "metadata": {},
   "source": [
    "# Remove Element"
   ]
  },
  {
   "cell_type": "code",
   "execution_count": null,
   "metadata": {},
   "outputs": [],
   "source": [
    "class Solution:\n",
    "    def removeElement(self, nums: List[int], val: int) -> int:\n",
    "        while val in nums:\n",
    "            nums.remove(val)\n",
    "        \n",
    "        return len(nums)"
   ]
  },
  {
   "attachments": {},
   "cell_type": "markdown",
   "metadata": {},
   "source": [
    "# Remove Duplicates from Sorted Array"
   ]
  },
  {
   "cell_type": "code",
   "execution_count": null,
   "metadata": {},
   "outputs": [],
   "source": [
    "class Solution:\n",
    "    def removeDuplicates(self, nums: List[int]) -> int:\n",
    "       result = 1\n",
    "\n",
    "       for x in range(1,len(nums)):\n",
    "           if nums[x] != nums[x-1]:\n",
    "               nums[result] = nums[x]\n",
    "               result = result + 1\n",
    "        \n",
    "       return result"
   ]
  },
  {
   "attachments": {},
   "cell_type": "markdown",
   "metadata": {},
   "source": [
    "#  Two Sum"
   ]
  },
  {
   "cell_type": "code",
   "execution_count": null,
   "metadata": {},
   "outputs": [],
   "source": [
    "class Solution:\n",
    "    def twoSum(self, nums: List[int], target: int) -> List[int]:\n",
    "        for i in range(0,len(nums)-1):\n",
    "            for y in range(i+1,len(nums)):\n",
    "                if (nums[i] + nums[y] == target):\n",
    "                    return [i,y]"
   ]
  },
  {
   "attachments": {},
   "cell_type": "markdown",
   "metadata": {},
   "source": [
    "# Merge Sorted Array"
   ]
  },
  {
   "cell_type": "code",
   "execution_count": null,
   "metadata": {},
   "outputs": [],
   "source": [
    "class Solution:\n",
    "    def merge(self, nums1: List[int], m: int, nums2: List[int], n: int) -> None:\n",
    "        \"\"\"\n",
    "        Do not return anything, modify nums1 in-place instead.\n",
    "        \"\"\"\n",
    "        while m > 0 and n > 0:\n",
    "            if nums1[m-1] >= nums2[n-1]:\n",
    "                nums1[m+n-1] = nums1[m-1]\n",
    "                m = m -1\n",
    "            else:\n",
    "                nums1[m+n-1] = nums2[n-1]\n",
    "                n = n - 1 \n",
    "        \n",
    "        if n > 0:\n",
    "            nums1[:n] =nums2[:n] "
   ]
  },
  {
   "attachments": {},
   "cell_type": "markdown",
   "metadata": {},
   "source": [
    "# Plus One"
   ]
  },
  {
   "cell_type": "code",
   "execution_count": null,
   "metadata": {},
   "outputs": [],
   "source": [
    "class Solution:\n",
    "    def plusOne(self, digits: List[int]) -> List[int]:\n",
    "        result = 0\n",
    "        batas = len(digits) - 1\n",
    "        for x in digits:\n",
    "            result += (x * (10 ** batas ))\n",
    "            batas = batas - 1\n",
    "        \n",
    "        result = result + 1\n",
    "        \n",
    "        return [int(x) for x in str(result)]"
   ]
  },
  {
   "attachments": {},
   "cell_type": "markdown",
   "metadata": {},
   "source": [
    "# Search Insert Position"
   ]
  },
  {
   "cell_type": "code",
   "execution_count": null,
   "metadata": {},
   "outputs": [],
   "source": [
    "class Solution:\n",
    "    def searchInsert(self, nums: List[int], target: int) -> int:\n",
    "        result = 0\n",
    "        for i in range(len(nums) - 1,-1,-1):\n",
    "            if target <= nums[i]:\n",
    "                result = i\n",
    "        if result == 0 and target > nums[-1]:\n",
    "            result = len(nums)\n",
    "        \n",
    "        return result"
   ]
  }
 ],
 "metadata": {
  "language_info": {
   "name": "python"
  },
  "orig_nbformat": 4
 },
 "nbformat": 4,
 "nbformat_minor": 2
}
