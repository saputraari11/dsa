{
 "cells": [
  {
   "attachments": {},
   "cell_type": "markdown",
   "metadata": {},
   "source": [
    "# Group Anagrams"
   ]
  },
  {
   "cell_type": "code",
   "execution_count": null,
   "metadata": {},
   "outputs": [],
   "source": [
    "class Solution:\n",
    "    def groupAnagrams(self, strs: list[str]) -> list[list[str]]:\n",
    "        result = {}\n",
    "        for item in strs:\n",
    "            count = [0] * 26\n",
    "            for char in item:\n",
    "                count[ord(char) - ord('a')] += 1\n",
    "            if str(count) in result:\n",
    "                result[str(count)].append(item)\n",
    "            else:\n",
    "                result[str(count)] = [item]\n",
    "        return result.values()"
   ]
  }
 ],
 "metadata": {
  "language_info": {
   "name": "python"
  },
  "orig_nbformat": 4
 },
 "nbformat": 4,
 "nbformat_minor": 2
}
