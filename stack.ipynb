{
 "cells": [
  {
   "attachments": {},
   "cell_type": "markdown",
   "metadata": {},
   "source": [
    "# Valid Parentheses\n",
    "\n",
    "#### Given a string s containing just the characters '(', ')', '{', '}', '[' and ']', determine if the input string is valid.\n",
    "#### An input string is valid if:\n",
    "\n",
    "#### Open brackets must be closed by the same type of brackets.\n",
    "#### Open brackets must be closed in the correct order.\n",
    "#### Every close bracket has a corresponding open bracket of the same type.\n",
    "\n",
    "### Example\n",
    "\n",
    "#### Data =  \"()\"\n",
    "#### Result = true\n",
    "\n",
    "#### Data =  \"()[]{}\"\n",
    "#### Result = true\n",
    "\n",
    "#### Data =  \"(]\"\n",
    "#### Result = false"
   ]
  },
  {
   "cell_type": "code",
   "execution_count": null,
   "metadata": {},
   "outputs": [],
   "source": [
    "def isValid(s: str) -> bool:\n",
    "        stack = []\n",
    "        Map = {\"}\":\"{\",\"]\":\"[\",\")\":\"(\"}\n",
    "\n",
    "        for chrs in s:\n",
    "            if chrs not in Map:\n",
    "                stack.append(chrs)\n",
    "                continue\n",
    "            elif not stack or stack[-1] != Map[chrs]:\n",
    "                return False\n",
    "            \n",
    "            stack.pop()\n",
    "        \n",
    "        return not stack"
   ]
  },
  {
   "attachments": {},
   "cell_type": "markdown",
   "metadata": {},
   "source": [
    "# Min Stack\n",
    "\n",
    "#### Design a stack that supports push, pop, top, and retrieving the minimum element in constant time.\n",
    "#### Implement the MinStack class:\n",
    "\n",
    "#### MinStack() initializes the stack object.\n",
    "#### void push(int val) pushes the element val onto the stack.\n",
    "#### void pop() removes the element on the top of the stack.\n",
    "#### int top() gets the top element of the stack.\n",
    " #### int getMin() retrieves the minimum element in the stack.\n",
    " #### You must implement a solution with O(1) time complexity for each function.\n",
    "\n",
    " \n",
    "\n",
    "\n",
    "\n",
    "### Example\n",
    "\n",
    "#### Data =  \n",
    "#### [\"MinStack\",\"push\",\"push\",\"push\",\"getMin\",\"pop\",\"top\",\"getMin\"]\n",
    "#### [[],[-2],[0],[-3],[],[],[],[]]\n",
    "\n",
    "#### Result = [null,null,null,null,-3,null,0,-2]\n",
    "\n",
    "#### Explanation = \n",
    " #### MinStack minStack = new MinStack();\n",
    " #### minStack.push(-2);\n",
    " #### minStack.push(0);\n",
    " #### minStack.push(-3);\n",
    " #### minStack.getMin(); // return -3\n",
    " #### minStack.pop();\n",
    " #### minStack.top();    // return 0\n",
    " #### minStack.getMin(); // return -2\n"
   ]
  },
  {
   "cell_type": "code",
   "execution_count": null,
   "metadata": {},
   "outputs": [],
   "source": [
    "class MinStack:\n",
    "\n",
    "    def __init__(self):\n",
    "        self.stack = []\n",
    "        self.minStack = []\n",
    "\n",
    "    def push(self, val: int) -> None:\n",
    "        self.stack.append(val)\n",
    "        val = min(val,self.minStack[-1] if self.minStack else val)\n",
    "        self.minStack.append(val)\n",
    "\n",
    "    def pop(self) -> None:\n",
    "        self.stack.pop()\n",
    "        self.minStack.pop()\n",
    "\n",
    "    def top(self) -> int:\n",
    "        return self.stack[-1]\n",
    "\n",
    "    def getMin(self) -> int:\n",
    "        return self.minStack[-1]\n",
    "        "
   ]
  },
  {
   "cell_type": "markdown",
   "metadata": {},
   "source": []
  }
 ],
 "metadata": {
  "language_info": {
   "name": "python"
  },
  "orig_nbformat": 4
 },
 "nbformat": 4,
 "nbformat_minor": 2
}
