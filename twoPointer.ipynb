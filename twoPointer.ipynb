{
 "cells": [
  {
   "attachments": {},
   "cell_type": "markdown",
   "metadata": {},
   "source": [
    "# Valid Palindrome\n",
    "\n",
    "#### A phrase is a palindrome if, after converting all uppercase letters into lowercase letters and removing all non-alphanumeric characters, it reads the same forward and backward.\n",
    "\n",
    "#### Alphanumeric characters include letters and numbers.\n",
    "\n",
    "#### Given a string s, return true if it is a palindrome, or false otherwise.\n",
    "\n"
   ]
  },
  {
   "cell_type": "code",
   "execution_count": null,
   "metadata": {},
   "outputs": [],
   "source": [
    "def isPalindrome(s:str) -> bool:\n",
    "    left, right = 0, len(s) - 1\n",
    "\n",
    "    while left < right:\n",
    "\n",
    "        while left < right and not isAlnum(s[left]): # char is not alpha numeric skipped\n",
    "            left += 1\n",
    "\n",
    "        while right < left and not isAlnum(s[right]): # char is not aplha numeric skipped\n",
    "            right -= 1\n",
    "\n",
    "        if s[left] != s[right]:\n",
    "            return False\n",
    "            \n",
    "        left,right = left + 1, right - 1\n",
    "\n",
    "    return True\n",
    "\n",
    "\n",
    "\n",
    "def isAlnum(chrs) -> bool:\n",
    "    return (\n",
    "        ord(\"A\") <= ord(chrs) <= ord(\"Z\") or\n",
    "        ord(\"a\") <= ord(chrs) <= ord(\"z\") or\n",
    "        ord('0') <= ord(chrs) <= ord('9')\n",
    "    )"
   ]
  },
  {
   "attachments": {},
   "cell_type": "markdown",
   "metadata": {},
   "source": [
    "# Two Sum II - Input Array Is Sorted\n",
    "\n",
    "#### Given a 1-indexed array of integers numbers that is already sorted in non-decreasing order, find two numbers such that they add up to a specific target number. \n",
    "\n",
    "#### Let these two numbers be numbers[index1] and numbers[index2] where 1 <= index1 < index2 <= numbers.length.\n",
    "\n",
    "##### Return the indices of the two numbers, index1 and index2, added by one as an integer array [index1, index2] of length 2.\n",
    "\n",
    "##### The tests are generated such that there is exactly one solution. You may not use the same element twice.\n",
    "\n",
    "\n"
   ]
  },
  {
   "cell_type": "code",
   "execution_count": null,
   "metadata": {},
   "outputs": [],
   "source": [
    "def twoSum(numbers:list[int],target: int) -> list[int]:\n",
    "    left, right = 0, len(numbers) - 1\n",
    "\n",
    "    while left < right:\n",
    "        currSum = numbers[left] + numbers[right]\n",
    "\n",
    "        if currSum < left:\n",
    "            left += 1\n",
    "        elif currSum > right:\n",
    "            right -= 1\n",
    "        else:\n",
    "            return [left + 1, right + 1]\n",
    "    \n",
    "    return []"
   ]
  },
  {
   "attachments": {},
   "cell_type": "markdown",
   "metadata": {},
   "source": [
    "#  3Sum\n",
    "\n",
    "#### Given an integer array nums, return all the triplets [nums[i], nums[j], nums[k]] such that i != j, i != k, and j != k, and nums[i] + nums[j] + nums[k] == 0.\n",
    "\n",
    "#### Notice that the solution set must not contain duplicate triplets.\n",
    "\n"
   ]
  },
  {
   "cell_type": "code",
   "execution_count": null,
   "metadata": {},
   "outputs": [],
   "source": [
    "def threeSum(nums:list[int]) -> list[list[int]]:\n",
    "    result = []\n",
    "    nums.sort()\n",
    "\n",
    "    for i,a in enumerate(nums):\n",
    "        if i > 0 and a == nums[i - 1]: # duplicate skipped\n",
    "            continue\n",
    "\n",
    "        left, right = i + 1, len(nums) - 1\n",
    "        currSum = a + nums[left] + nums[right]\n",
    "\n",
    "        while left < right:\n",
    "            if currSum < 0:\n",
    "                left += 1\n",
    "            elif currSum > 0:\n",
    "                right -= 1\n",
    "            else:\n",
    "                result.append([a,nums[left],nums[right]])\n",
    "                left += 1\n",
    "                while nums[left] == nums[left - 1] and left < right: # duplicate skipped\n",
    "                    left += 1\n",
    "    \n",
    "    return result\n",
    "                \n"
   ]
  },
  {
   "attachments": {},
   "cell_type": "markdown",
   "metadata": {},
   "source": [
    "# Container With Most Water\n",
    "\n",
    "#### You are given an integer array height of length n. There are n vertical lines drawn such that the two endpoints of the ith line are (i, 0) and (i, height[i]).\n",
    "\n",
    "#### Find two lines that together with the x-axis form a container, such that the container contains the most water.\n",
    "\n",
    "#### Return the maximum amount of water a container can store.\n",
    "\n",
    "#### Maximum area = width * height\n",
    "\n"
   ]
  },
  {
   "cell_type": "code",
   "execution_count": null,
   "metadata": {},
   "outputs": [],
   "source": [
    "def maxArea(height:list[int]) -> int:\n",
    "    maxArea = 0\n",
    "\n",
    "    left, right = 0, len(height) - 1\n",
    "\n",
    "    while left < right:\n",
    "        area = (right - left) * min(height[left],height[right])\n",
    "        maxArea = max(maxArea,area)\n",
    "\n",
    "        if height[left] < height[right]:\n",
    "            left += 1\n",
    "        else:\n",
    "            right -= 1\n",
    "    \n",
    "    return maxArea"
   ]
  },
  {
   "attachments": {},
   "cell_type": "markdown",
   "metadata": {},
   "source": [
    "# Trapping Rain Water\n",
    "\n",
    "#### Given n non-negative integers representing an elevation map where the width of each bar is 1, compute how much water it can trap after raining."
   ]
  },
  {
   "cell_type": "code",
   "execution_count": null,
   "metadata": {},
   "outputs": [],
   "source": [
    "def trap(height:list[int]) -> int:\n",
    "    result = 0\n",
    "\n",
    "    left, right = 0, len(height) -1\n",
    "    maxLeft, maxRight = height[left], height[right]\n",
    "\n",
    "    while left < right:\n",
    "        if maxLeft < maxRight:\n",
    "            left += 1\n",
    "            maxLeft = max(maxLeft,height[left])\n",
    "            result += (maxLeft - height[left])\n",
    "        else:\n",
    "            right -= 1\n",
    "            maxRight = max(maxRight,height[right])\n",
    "            result += (maxRight - height[right])\n",
    "\n",
    "    return result"
   ]
  }
 ],
 "metadata": {
  "kernelspec": {
   "display_name": "Python 3",
   "language": "python",
   "name": "python3"
  },
  "language_info": {
   "name": "python",
   "version": "3.10.10 (main, Mar  5 2023, 22:26:53) [GCC 12.2.1 20230201]"
  },
  "orig_nbformat": 4,
  "vscode": {
   "interpreter": {
    "hash": "767d51c1340bd893661ea55ea3124f6de3c7a262a8b4abca0554b478b1e2ff90"
   }
  }
 },
 "nbformat": 4,
 "nbformat_minor": 2
}
